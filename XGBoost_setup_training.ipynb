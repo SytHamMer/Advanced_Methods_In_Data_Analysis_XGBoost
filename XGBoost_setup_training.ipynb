{
 "cells": [
  {
   "cell_type": "markdown",
   "metadata": {},
   "source": [
    "imports"
   ]
  },
  {
   "cell_type": "code",
   "execution_count": 1,
   "metadata": {},
   "outputs": [],
   "source": [
    "import pandas as pd\n",
    "import numpy as np\n",
    "import matplotlib.pyplot as plt\n",
    "import xgboost as xgb\n",
    "from sklearn.model_selection import train_test_split\n",
    "from sklearn.model_selection import GridSearchCV\n",
    "from sklearn.metrics import confusion_matrix,accuracy_score,precision_score,recall_score,f1_score #for classification\n",
    "from sklearn.metrics import max_error,mean_absolute_error,r2_score,root_mean_squared_error #for regression\n",
    "from sklearn.metrics import classification_report\n",
    "from sklearn.preprocessing import LabelEncoder\n",
    "import seaborn as sns\n",
    "\n"
   ]
  },
  {
   "cell_type": "markdown",
   "metadata": {},
   "source": [
    "## setup functions"
   ]
  },
  {
   "cell_type": "markdown",
   "metadata": {},
   "source": [
    "best parameters definition"
   ]
  },
  {
   "cell_type": "code",
   "execution_count": null,
   "metadata": {},
   "outputs": [
    {
     "name": "stdout",
     "output_type": "stream",
     "text": [
      "({'alpha': 0, 'eta': 0.01, 'gamma': 0, 'lambda': 0, 'max_depth': 3, 'min_child_weight': 1, 'objective': 'reg:squarederror', 'subsample': 0.5}, np.float64(-0.008333333333333333))\n"
     ]
    }
   ],
   "source": [
    "def best_parameters_classification(X_train,y_train): #This function will be use to define the best parameters for each dataset classification\n",
    "    # parameters = {\n",
    "    #     \"eta\" : [0.01, 0.05, 0.1, 0.3, 0.5],\n",
    "    #     \"gamma\" : [0, 0.1, 0.2, 0.3, 0.4],\n",
    "    #     \"max_depth\" : [3, 10, 20, 50, 75, 100],\n",
    "    #     \"min_child_weight\" : [3, 10, 20, 50, 75, 100],\n",
    "    #     \"subsample\" : [0.5, 0.7, 0.8, 1],\n",
    "    #     \"lambda\" : [0, 0.5, 3, 4, 5, 7, 10],\n",
    "    #     \"alpha\" : [0, 0.3, 0.5, 0.7, 1],\n",
    "    #     \"objective\": [\"reg:squarederror\", \"reg:squarelogerror\",\"reg:logistic\",\"multi:softmax\"],\n",
    "    # }\n",
    "    parameters = {\n",
    "        \"eta\" : [0.01, 0.5],\n",
    "        \"gamma\" : [0, 0.4],\n",
    "        \"max_depth\" : [3, 100],\n",
    "        \"min_child_weight\" : [1, 100],\n",
    "        \"subsample\" : [0.5, 1],\n",
    "        \"lambda\" : [0,  10],\n",
    "        \"alpha\" : [0,  1],\n",
    "        \"objective\": [\"reg:squarederror\",\"multi:softmax\"],\n",
    "    }\n",
    "    xgb_model = xgb.XGBClassifier()\n",
    "    grid_search = GridSearchCV(xgb_model, parameters, scoring= 'neg_mean_squared_error', cv=5, n_jobs=-1)\n",
    "    grid_search.fit(X_train, y_train)    \n",
    "    return (grid_search.best_params_, grid_search.best_score_) #(parameters,score)\n",
    "\n",
    "\n",
    "\n",
    "\n",
    "def best_parameters_regression(X_train,y_train): #This function will be use to define the best parameters for each dataset regression\n",
    "    # parameters = {\n",
    "    #     \"eta\" : [0.01, 0.05, 0.1, 0.3, 0.5],\n",
    "    #     \"gamma\" : [0, 0.1, 0.2, 0.3, 0.4],\n",
    "    #     \"max_depth\" : [3, 10, 20, 50, 75, 100],\n",
    "    #     \"min_child_weight\" : [3, 10, 20, 50, 75, 100],\n",
    "    #     \"subsample\" : [0.5, 0.7, 0.8, 1],\n",
    "    #     \"lambda\" : [0, 0.5, 3, 4, 5, 7, 10],\n",
    "    #     \"alpha\" : [0, 0.3, 0.5, 0.7, 1],\n",
    "    #     \"objective\": [\"reg:squarederror\", \"reg:squarelogerror\",\"reg:logistic\",\"multi:softmax\"],\n",
    "    # }\n",
    "    parameters = {\n",
    "        \"eta\" : [0.01, 0.5],\n",
    "        \"gamma\" : [0, 0.4],\n",
    "        \"max_depth\" : [3, 100],\n",
    "        \"min_child_weight\" : [1, 100],\n",
    "        \"subsample\" : [0.5, 1],\n",
    "        \"lambda\" : [0,  10],\n",
    "        \"alpha\" : [0,  1],\n",
    "        \"objective\": [\"reg:squarederror\",\"multi:softmax\"],\n",
    "    }\n",
    "    xgb_model = xgb.XGBRegressor()\n",
    "    grid_search = GridSearchCV(xgb_model, parameters, scoring= 'neg_mean_squared_error', cv=5, n_jobs=-1)\n",
    "    grid_search.fit(X_train, y_train)    \n",
    "    return (grid_search.best_params_, grid_search.best_score_) #(parameters,score)\n",
    "\n",
    "#testing area\n",
    "data = pd.read_csv(\"data/classification/iris.csv\")\n",
    "X = data.drop(columns=[\"Species\"])\n",
    "label_encoder = LabelEncoder()\n",
    "y = data[\"Species\"]\n",
    "y = label_encoder.fit_transform(y)\n",
    "X_train, X_test, y_train, y_test = train_test_split(X, y, test_size=0.2, random_state=42)\n",
    "best_param = best_parameters_classification(X_train,y_train)\n",
    "print(best_param) #testing the function\n"
   ]
  },
  {
   "cell_type": "markdown",
   "metadata": {},
   "source": [
    "prediction"
   ]
  },
  {
   "cell_type": "code",
   "execution_count": 3,
   "metadata": {},
   "outputs": [
    {
     "name": "stderr",
     "output_type": "stream",
     "text": [
      "c:\\Users\\mathy\\AppData\\Local\\Programs\\Python\\Python313\\Lib\\site-packages\\xgboost\\core.py:723: FutureWarning: Pass `objective` as keyword args.\n",
      "  warnings.warn(msg, FutureWarning)\n"
     ]
    },
    {
     "data": {
      "text/plain": [
       "array([1, 0, 2, 1, 1, 0, 1, 2, 1, 1, 2, 0, 0, 0, 0, 1, 2, 1, 1, 2, 0, 2,\n",
       "       0, 2, 2, 2, 2, 2, 0, 0])"
      ]
     },
     "execution_count": 3,
     "metadata": {},
     "output_type": "execute_result"
    }
   ],
   "source": [
    "def predict_classification(X_train, y_train, X_test, y_test, parameters): #This function will be use to predict the model\n",
    "    xgb_model = xgb.XGBClassifier(parameters)\n",
    "    xgb_model.fit(X_train, y_train)\n",
    "    y_pred = xgb_model.predict(X_test)\n",
    "    return y_pred\n",
    "\n",
    "\n",
    "def predict_regression(X_train, y_train, X_test, y_test, parameters): #This function will be use to predict the model\n",
    "    xgb_model = xgb.XGBRegressor(**parameters)\n",
    "    xgb_model.fit(X_train, y_train)\n",
    "    y_pred = xgb_model.predict(X_test)\n",
    "    return y_pred\n",
    "\n",
    "\n",
    "y_pred = predict_classification(X_train, y_train, X_test, y_test, best_param)\n",
    "y_pred"
   ]
  },
  {
   "cell_type": "markdown",
   "metadata": {},
   "source": [
    "scores"
   ]
  },
  {
   "cell_type": "code",
   "execution_count": 4,
   "metadata": {},
   "outputs": [],
   "source": [
    "def scores_classification(y_test, y_pred): \n",
    "    conf_matrix = confusion_matrix(y_test, y_pred)\n",
    "    accuracy = float(accuracy_score(y_test, y_pred))\n",
    "    precision = float(precision_score(y_test, y_pred, average='weighted'))\n",
    "    recall = float(recall_score(y_test, y_pred, average='weighted'))\n",
    "    f1 = float(f1_score(y_test, y_pred, average='weighted'))\n",
    "    class_report  = classification_report(y_test, y_pred, output_dict=True)\n",
    "    class_report_df = pd.DataFrame(class_report).transpose()\n",
    "    sns.heatmap(class_report_df.iloc[:-1, :-1], annot=True, cmap='Blues')\n",
    "    plt.title('Classification Report')\n",
    "    plt.show()\n",
    "    \n",
    "    \n",
    "    \n",
    "    \n",
    "    \n",
    "    plt.matshow(conf_matrix)\n",
    "    plt.title('Confusion matrix')\n",
    "    plt.colorbar()\n",
    "    plt.ylabel('True label')\n",
    "    plt.xlabel('Predicted label')\n",
    "    plt.show()\n",
    "    print(\"The overall accuracy is: \", accuracy)\n",
    "    print(\"The overall precision is: \", precision)\n",
    "    print(\"The overall recall is: \", recall)\n",
    "    print(\"The overall f1 is: \", f1)\n",
    "    print(\"The classification report is: \", class_report)\n",
    "\n",
    "def scores_regression(y_test, y_pred):\n",
    "    max_error_score = float(max_error(y_test, y_pred))\n",
    "    mean_absolute_error_score = float(mean_absolute_error(y_test, y_pred))\n",
    "    r2 = float(r2_score(y_test, y_pred))\n",
    "    root_mean_squared_error_score = float(np.sqrt(mean_squared_error(y_test, y_pred)))\n",
    "    class_report  = classification_report(y_test, y_pred, output_dict=True)\n",
    "    class_report_df = pd.DataFrame(class_report).transpose()\n",
    "    sns.heatmap(class_report_df.iloc[:-1, :-1], annot=True, cmap='Blues')\n",
    "    plt.title('Classification Report')\n",
    "    plt.show()\n",
    "    \n",
    "    \n",
    "    print(\"The max error is: \", max_error_score)\n",
    "    print(\"The mean absolute error is: \", mean_absolute_error_score)\n",
    "    print(\"The r2 is: \", r2)\n",
    "    print(\"The root mean squared error is: \", root_mean_squared)\n",
    "    print(\"The classification report is: \", class_report)\n",
    "    \n",
    "\n"
   ]
  }
 ],
 "metadata": {
  "kernelspec": {
   "display_name": "Python 3",
   "language": "python",
   "name": "python3"
  },
  "language_info": {
   "codemirror_mode": {
    "name": "ipython",
    "version": 3
   },
   "file_extension": ".py",
   "mimetype": "text/x-python",
   "name": "python",
   "nbconvert_exporter": "python",
   "pygments_lexer": "ipython3",
   "version": "3.13.0"
  }
 },
 "nbformat": 4,
 "nbformat_minor": 2
}
